{
 "cells": [
  {
   "cell_type": "markdown",
   "metadata": {},
   "source": [
    "# Self-Driving Car Engineer Nanodegree\n",
    "\n",
    "## Deep Learning\n",
    "\n",
    "## Project: Build a Traffic Sign Recognition Classifier\n",
    "\n",
    "In this notebook, a template is provided for you to implement your functionality in stages which is required to successfully complete this project. If additional code is required that cannot be included in the notebook, be sure that the Python code is successfully imported and included in your submission, if necessary. Sections that begin with **'Implementation'** in the header indicate where you should begin your implementation for your project. Note that some sections of implementation are optional, and will be marked with **'Optional'** in the header.\n",
    "\n",
    "In addition to implementing code, there will be questions that you must answer which relate to the project and your implementation. Each section where you will answer a question is preceded by a **'Question'** header. Carefully read each question and provide thorough answers in the following text boxes that begin with **'Answer:'**. Your project submission will be evaluated based on your answers to each of the questions and the implementation you provide.\n",
    "\n",
    ">**Note:** Code and Markdown cells can be executed using the **Shift + Enter** keyboard shortcut. In addition, Markdown cells can be edited by typically double-clicking the cell to enter edit mode."
   ]
  },
  {
   "cell_type": "markdown",
   "metadata": {},
   "source": [
    "---\n",
    "\n",
    "## Step 1: Dataset Exploration\n",
    "\n",
    "Visualize the German Traffic Signs Dataset. This is open ended, some suggestions include: plotting traffic signs images, plotting the count of each sign, etc. Be creative!\n",
    "\n",
    "\n",
    "The pickled data is a dictionary with 4 key/value pairs:\n",
    "\n",
    "- features -> the images pixel values, (width, height, channels)\n",
    "- labels -> the label of the traffic sign\n",
    "- sizes -> the original width and height of the image, (width, height)\n",
    "- coords -> coordinates of a bounding box around the sign in the image, (x1, y1, x2, y2). Based the original image (not the resized version)."
   ]
  },
  {
   "cell_type": "code",
   "execution_count": 6,
   "metadata": {
    "collapsed": true
   },
   "outputs": [],
   "source": [
    "# Load pickled data\n",
    "import pickle\n",
    "\n",
    "training_file = 'train.p'\n",
    "testing_file = 'test.p'\n",
    "\n",
    "with open(training_file, mode='rb') as f:\n",
    "    train = pickle.load(f)\n",
    "with open(testing_file, mode='rb') as f:\n",
    "    test = pickle.load(f)\n",
    "    \n",
    "X_train, y_train = train['features'], train['labels']\n",
    "X_test, y_test = test['features'], test['labels']"
   ]
  },
  {
   "cell_type": "code",
   "execution_count": 7,
   "metadata": {
    "collapsed": false
   },
   "outputs": [
    {
     "name": "stdout",
     "output_type": "stream",
     "text": [
      "Number of training examples = 39209\n",
      "Number of testing examples = 12630\n",
      "Image data shape = [32, 32, 3]\n",
      "Number of classes = 43\n"
     ]
    }
   ],
   "source": [
    "# To start off let's do a basic data summary.\n",
    "n_train = X_train.shape[0]\n",
    "\n",
    "n_test = X_test.shape[0]\n",
    "\n",
    "# assume [height, width, channels]\n",
    "height = X_train.shape[1]\n",
    "width = X_train.shape[2]\n",
    "channels = X_train.shape[3]\n",
    "\n",
    "image_shape = [height, width, channels]\n",
    "\n",
    "n_classes = len(set(y_train))\n",
    "\n",
    "print(\"Number of training examples =\", n_train)\n",
    "print(\"Number of testing examples =\", n_test)\n",
    "print(\"Image data shape =\", image_shape)\n",
    "print(\"Number of classes =\", n_classes)"
   ]
  },
  {
   "cell_type": "markdown",
   "metadata": {},
   "source": [
    "----\n",
    "\n",
    "## Step 2: Design and Test a Model Architecture\n",
    "\n",
    "Design and implement a deep learning model that learns to recognize traffic signs. Train and test your model on the [German Traffic Sign Dataset](http://benchmark.ini.rub.de/?section=gtsrb&subsection=dataset).\n",
    "\n",
    "There are various aspects to consider when thinking about this problem:\n",
    "\n",
    "- Your model can be derived from a deep feedforward net or a deep convolutional network.\n",
    "- Play around preprocessing techniques (normalization, rgb to grayscale, etc)\n",
    "- Number of examples per label (some have more than others).\n",
    "- Generate fake data.\n",
    "\n",
    "Here is an example of a [published baseline model on this problem](http://yann.lecun.com/exdb/publis/pdf/sermanet-ijcnn-11.pdf). It's not required to be familiar with the approach used in the paper but, it's good practice to try to read papers like these."
   ]
  },
  {
   "cell_type": "markdown",
   "metadata": {},
   "source": [
    "### Implementation\n",
    "\n",
    "Use the code cell (or multiple code cells, if necessary) to implement the first step of your project. Once you have completed your implementation and are satisfied with the results, be sure to thoroughly answer the questions that follow."
   ]
  },
  {
   "cell_type": "code",
   "execution_count": 8,
   "metadata": {
    "collapsed": false
   },
   "outputs": [],
   "source": [
    "import matplotlib.pyplot as plt\n",
    "import numpy as np\n",
    "from tqdm import tqdm\n",
    "\n",
    "# Preprocess the data here.\n",
    "def weighted_average(pixel):\n",
    "    return [0.3 * pixel[0] + 0.6 * pixel[1] + 0.1 * pixel[2]]\n",
    "\n",
    "def greyed_image(image):\n",
    "    grey = np.zeros((height, width, 1))\n",
    "    for row in range(height):\n",
    "        for col in range(width):\n",
    "            grey[row][col] = weighted_average(image[row][col])\n",
    "    return grey"
   ]
  },
  {
   "cell_type": "code",
   "execution_count": 33,
   "metadata": {
    "collapsed": false
   },
   "outputs": [
    {
     "name": "stderr",
     "output_type": "stream",
     "text": [
      "100%|██████████| 39209/39209 [06:37<00:00, 98.59it/s] \n",
      "100%|██████████| 12630/12630 [01:53<00:00, 111.14it/s]\n"
     ]
    }
   ],
   "source": [
    "# convert RGB (3 channels) to greyscale (1 channel)\n",
    "train_images = []\n",
    "for image in tqdm(X_train):\n",
    "    grey_image = greyed_image(image)\n",
    "    train_images.append(grey_image)\n",
    "    \n",
    "test_images = []\n",
    "for image in tqdm(X_test):\n",
    "    grey_image = greyed_image(image)\n",
    "    test_images.append(grey_image)"
   ]
  },
  {
   "cell_type": "code",
   "execution_count": 106,
   "metadata": {
    "collapsed": false
   },
   "outputs": [],
   "source": [
    "# reformat labels\n",
    "train_labels = np.zeros((n_train, n_classes))\n",
    "for idx, num in enumerate(y_train):\n",
    "    train_labels[idx][num] = 1.0\n",
    "    \n",
    "test_labels = np.zeros((n_test, n_classes))\n",
    "for idx, num in enumerate(y_test):\n",
    "    test_labels[idx][num] = 1.0"
   ]
  },
  {
   "cell_type": "markdown",
   "metadata": {},
   "source": [
    "### Question 1 \n",
    "\n",
    "_Describe the techniques used to preprocess the data._"
   ]
  },
  {
   "cell_type": "markdown",
   "metadata": {},
   "source": [
    "**Answer:**\n",
    "\n",
    "For the features, I converted RGB images to greyscale images by taking a weighted average of three colour channels.\n",
    "\n",
    "For the labels, I created binary arrays where for each array is of zeros with one exception (for the index of the sign from the corresponding image, the value is one)."
   ]
  },
  {
   "cell_type": "code",
   "execution_count": 107,
   "metadata": {
    "collapsed": true
   },
   "outputs": [],
   "source": [
    "# shuffle features and labels\n",
    "from sklearn.utils import shuffle\n",
    "train_images, train_labels = shuffle(train_images, train_labels)"
   ]
  },
  {
   "cell_type": "markdown",
   "metadata": {},
   "source": [
    "### Question 2\n",
    "\n",
    "_Describe how you set up the training, validation and testing data for your model. If you generated additional data, why?_"
   ]
  },
  {
   "cell_type": "markdown",
   "metadata": {},
   "source": [
    "**Answer:**\n",
    "\n",
    "I shuffled training data to ensure the efficiency of training."
   ]
  },
  {
   "cell_type": "code",
   "execution_count": 108,
   "metadata": {
    "collapsed": true
   },
   "outputs": [],
   "source": [
    "import tensorflow as tf\n",
    "\n",
    "# referenced https://github.com/aymericdamien/\n",
    "# TensorFlow-Examples/blob/master/examples/3_NeuralNetworks/convolutional_network.py\n",
    "\n",
    "# hyperparameters\n",
    "learning_rate = 0.001\n",
    "epochs = 6\n",
    "batch_size = 64\n",
    "display_step = 100\n",
    "\n",
    "conv_size = 5\n",
    "conv_filter_1 =  16\n",
    "conv_filter_2 =  36\n",
    "fully_in = 8 * 8 * conv_filter_2\n",
    "fully_size = 128\n",
    "std = 0.05\n",
    "channels = 1\n",
    "\n",
    "# input\n",
    "x = tf.placeholder(tf.float32, [None, height, width, channels])\n",
    "y = tf.placeholder(tf.float32, [None, n_classes])\n",
    "\n",
    "weights = {\n",
    "    'conv1': tf.Variable(tf.truncated_normal([conv_size, conv_size, channels, conv_filter_1], stddev=std)),\n",
    "    'conv2': tf.Variable(tf.truncated_normal([conv_size, conv_size, conv_filter_1, conv_filter_2], stddev=std)),\n",
    "    'full': tf.Variable(tf.truncated_normal([fully_in, fully_size], stddev=std)),\n",
    "    'out': tf.Variable(tf.truncated_normal([fully_size, n_classes], stddev=std))\n",
    "}\n",
    "\n",
    "biases = {\n",
    "    'conv1': tf.Variable(tf.truncated_normal([conv_filter_1])),\n",
    "    'conv2': tf.Variable(tf.truncated_normal([conv_filter_2])),\n",
    "    'full': tf.Variable(tf.truncated_normal([fully_size])),\n",
    "    'out': tf.Variable(tf.truncated_normal([n_classes]))\n",
    "}\n",
    "\n",
    "# conv layer, with bias and activation\n",
    "def conv(x, W, b):\n",
    "    layer = tf.nn.conv2d(x, W, strides=[1, 1, 1, 1], padding='SAME')\n",
    "    layer = tf.nn.bias_add(layer, b)\n",
    "    layer = tf.nn.max_pool(layer, ksize=[1, 2, 2, 1], strides=[1, 2, 2, 1], padding='SAME')\n",
    "    layer = tf.nn.relu(layer)\n",
    "    return layer\n",
    "\n",
    "def model(x, weights, biases):\n",
    "    # conv network\n",
    "    conv1 = conv(x, weights['conv1'], biases['conv1'])\n",
    "    conv2 = conv(conv1, weights['conv2'], biases['conv2'])\n",
    "    # flatten conv\n",
    "    flat = tf.reshape(conv2, [-1, weights['full'].get_shape().as_list()[0]])\n",
    "    # fully connected\n",
    "    fc = tf.add(tf.matmul(flat, weights['full']), biases['full'])\n",
    "    fc = tf.nn.relu(fc)\n",
    "    # output\n",
    "    output = tf.add(tf.matmul(fc, weights['out']), biases['out'])\n",
    "    return output\n",
    "\n",
    "pred = model(x, weights, biases)\n",
    "\n",
    "# loss and optimization\n",
    "cost = tf.reduce_mean(tf.nn.softmax_cross_entropy_with_logits(pred, y))\n",
    "optimizer = tf.train.AdamOptimizer(learning_rate=learning_rate).minimize(cost)\n",
    "\n",
    "# evaluate\n",
    "prediction = tf.equal(tf.argmax(tf.nn.softmax(pred), 1), tf.argmax(y, 1))\n",
    "accuracy = tf.reduce_mean(tf.cast(prediction, tf.float32))"
   ]
  },
  {
   "cell_type": "markdown",
   "metadata": {},
   "source": [
    "### Question 3\n",
    "\n",
    "_What does your final architecture look like? (Type of model, layers, sizes, connectivity, etc.)  For reference on how to build a deep neural network using TensorFlow, see [Deep Neural Network in TensorFlow\n",
    "](https://classroom.udacity.com/nanodegrees/nd013/parts/fbf77062-5703-404e-b60c-95b78b2f3f9e/modules/6df7ae49-c61c-4bb2-a23e-6527e69209ec/lessons/b516a270-8600-4f93-a0a3-20dfeabe5da6/concepts/83a3a2a2-a9bd-4b7b-95b0-eb924ab14432) from the classroom._\n"
   ]
  },
  {
   "cell_type": "markdown",
   "metadata": {},
   "source": [
    "**Answer:**\n",
    "\n",
    "I used two layers of connvolutional neural network, followed by one fully connected layer. Then process with the output wright and bias."
   ]
  },
  {
   "cell_type": "code",
   "execution_count": 109,
   "metadata": {
    "collapsed": false
   },
   "outputs": [
    {
     "name": "stderr",
     "output_type": "stream",
     "text": [
      "\r",
      "  0%|          | 0/6 [00:00<?, ?it/s]"
     ]
    },
    {
     "name": "stdout",
     "output_type": "stream",
     "text": [
      "Batch 0, Accuracy=   3.1%\n",
      "Batch 6400, Accuracy=  54.7%\n",
      "Batch 12800, Accuracy=  79.7%\n",
      "Batch 19200, Accuracy=  89.1%\n",
      "Batch 25600, Accuracy=  90.6%\n",
      "Batch 32000, Accuracy=  98.4%\n",
      "Batch 38400, Accuracy=  98.4%\n"
     ]
    },
    {
     "name": "stderr",
     "output_type": "stream",
     "text": [
      "\r",
      " 17%|█▋        | 1/6 [02:09<10:46, 129.40s/it]"
     ]
    },
    {
     "name": "stdout",
     "output_type": "stream",
     "text": [
      "Batch 0, Accuracy= 100.0%\n",
      "Batch 6400, Accuracy= 100.0%\n",
      "Batch 12800, Accuracy=  98.4%\n",
      "Batch 19200, Accuracy=  98.4%\n",
      "Batch 25600, Accuracy=  98.4%\n",
      "Batch 32000, Accuracy= 100.0%\n",
      "Batch 38400, Accuracy=  98.4%\n"
     ]
    },
    {
     "name": "stderr",
     "output_type": "stream",
     "text": [
      "\r",
      " 33%|███▎      | 2/6 [03:46<07:58, 119.64s/it]"
     ]
    },
    {
     "name": "stdout",
     "output_type": "stream",
     "text": [
      "Batch 0, Accuracy=  98.4%\n",
      "Batch 6400, Accuracy= 100.0%\n",
      "Batch 12800, Accuracy=  98.4%\n",
      "Batch 19200, Accuracy= 100.0%\n",
      "Batch 25600, Accuracy=  98.4%\n",
      "Batch 32000, Accuracy= 100.0%\n",
      "Batch 38400, Accuracy= 100.0%\n"
     ]
    },
    {
     "name": "stderr",
     "output_type": "stream",
     "text": [
      "\r",
      " 50%|█████     | 3/6 [05:26<05:41, 113.82s/it]"
     ]
    },
    {
     "name": "stdout",
     "output_type": "stream",
     "text": [
      "Batch 0, Accuracy= 100.0%\n",
      "Batch 6400, Accuracy= 100.0%\n",
      "Batch 12800, Accuracy=  98.4%\n",
      "Batch 19200, Accuracy= 100.0%\n",
      "Batch 25600, Accuracy= 100.0%\n",
      "Batch 32000, Accuracy= 100.0%\n",
      "Batch 38400, Accuracy=  98.4%\n"
     ]
    },
    {
     "name": "stderr",
     "output_type": "stream",
     "text": [
      "\r",
      " 67%|██████▋   | 4/6 [06:56<03:33, 106.73s/it]"
     ]
    },
    {
     "name": "stdout",
     "output_type": "stream",
     "text": [
      "Batch 0, Accuracy= 100.0%\n",
      "Batch 6400, Accuracy= 100.0%\n",
      "Batch 12800, Accuracy=  98.4%\n",
      "Batch 19200, Accuracy=  96.9%\n",
      "Batch 25600, Accuracy= 100.0%\n",
      "Batch 32000, Accuracy= 100.0%\n",
      "Batch 38400, Accuracy= 100.0%\n"
     ]
    },
    {
     "name": "stderr",
     "output_type": "stream",
     "text": [
      "\r",
      " 83%|████████▎ | 5/6 [08:41<01:46, 106.13s/it]"
     ]
    },
    {
     "name": "stdout",
     "output_type": "stream",
     "text": [
      "Batch 0, Accuracy= 100.0%\n",
      "Batch 6400, Accuracy= 100.0%\n",
      "Batch 12800, Accuracy= 100.0%\n",
      "Batch 19200, Accuracy= 100.0%\n",
      "Batch 25600, Accuracy= 100.0%\n",
      "Batch 32000, Accuracy= 100.0%\n",
      "Batch 38400, Accuracy=  98.4%\n"
     ]
    },
    {
     "name": "stderr",
     "output_type": "stream",
     "text": [
      "100%|██████████| 6/6 [10:22<00:00, 104.47s/it]\n"
     ]
    },
    {
     "name": "stdout",
     "output_type": "stream",
     "text": [
      "Training Finished!\n",
      "Testing Accuracy: 0.913302\n"
     ]
    }
   ],
   "source": [
    "# initialize\n",
    "init = tf.initialize_all_variables()\n",
    "\n",
    "sess = tf.Session()\n",
    "sess.run(init)\n",
    "\n",
    "for i in tqdm(range(epochs)):\n",
    "    total_batches = int(n_train / batch_size)\n",
    "    for step in range(total_batches):\n",
    "        start = step * batch_size\n",
    "        end = (step + 1) * batch_size\n",
    "        batch_x = train_images[start: end]\n",
    "        batch_y = train_labels[start: end]\n",
    "        sess.run(optimizer, feed_dict={x: batch_x, y: batch_y})\n",
    "\n",
    "        if step % display_step == 0:\n",
    "            acc = sess.run(accuracy, feed_dict={x: batch_x, y: batch_y})\n",
    "            print(\"Batch \" + str(step*batch_size) + \", Accuracy= \" + \"{:>6.1%}\".format(acc))\n",
    "print(\"Training Finished!\")\n",
    "\n",
    "print(\"Testing Accuracy:\", sess.run(accuracy, feed_dict={x: test_images, y: test_labels}))"
   ]
  },
  {
   "cell_type": "markdown",
   "metadata": {},
   "source": [
    "### Question 4\n",
    "\n",
    "_How did you train your model? (Type of optimizer, batch size, epochs, hyperparameters, etc.)_\n"
   ]
  },
  {
   "cell_type": "markdown",
   "metadata": {},
   "source": [
    "**Answer:**\n",
    "\n",
    "I used AdamOptimizer as my optimizer. There are 6 epochs, and the batch size of each epoch is 128. I chose a conservative learning rate of 0.001."
   ]
  },
  {
   "cell_type": "markdown",
   "metadata": {},
   "source": [
    "### Question 5\n",
    "\n",
    "\n",
    "_What approach did you take in coming up with a solution to this problem?_"
   ]
  },
  {
   "cell_type": "markdown",
   "metadata": {},
   "source": [
    "**Answer:**\n",
    "\n",
    "First I tried using a tradiotnal deep neural network, but kept getting accuracy of close to 5%. I thought the low accuracy was due to wrong "
   ]
  },
  {
   "cell_type": "markdown",
   "metadata": {},
   "source": [
    "---\n",
    "\n",
    "## Step 3: Test a Model on New Images\n",
    "\n",
    "Take several pictures of traffic signs that you find on the web or around you (at least five), and run them through your classifier on your computer to produce example results. The classifier might not recognize some local signs but it could prove interesting nonetheless.\n",
    "\n",
    "You may find `signnames.csv` useful as it contains mappings from the class id (integer) to the actual sign name."
   ]
  },
  {
   "cell_type": "markdown",
   "metadata": {},
   "source": [
    "### Implementation\n",
    "\n",
    "Use the code cell (or multiple code cells, if necessary) to implement the first step of your project. Once you have completed your implementation and are satisfied with the results, be sure to thoroughly answer the questions that follow."
   ]
  },
  {
   "cell_type": "code",
   "execution_count": 110,
   "metadata": {
    "collapsed": false
   },
   "outputs": [
    {
     "data": {
      "image/png": "[encoded data removed]",
      "text/plain": [
       "<matplotlib.figure.Figure at 0x1202db160>"
      ]
     },
     "metadata": {},
     "output_type": "display_data"
    }
   ],
   "source": [
    "import matplotlib.pyplot as plt\n",
    "import matplotlib.image as mpimg\n",
    "import cv2\n",
    "\n",
    "my_images = []\n",
    "for i in range(8):\n",
    "    image_path = './p' + str(i) + '.jpg'\n",
    "    image = mpimg.imread(image_path)\n",
    "    grey_image = cv2.cvtColor(image, cv2.COLOR_BGR2GRAY)\n",
    "    my_images.append(grey_image)\n",
    "    \n",
    "plt.imshow(my_images[0], cmap='gray')\n",
    "plt.show()"
   ]
  },
  {
   "cell_type": "code",
   "execution_count": 111,
   "metadata": {
    "collapsed": false
   },
   "outputs": [
    {
     "data": {
      "image/png": "[encoded data removed]",
      "text/plain": [
       "<matplotlib.figure.Figure at 0x1206a4400>"
      ]
     },
     "metadata": {},
     "output_type": "display_data"
    }
   ],
   "source": [
    "plt.imshow(my_images[7], cmap='gray')\n",
    "plt.show()"
   ]
  },
  {
   "cell_type": "code",
   "execution_count": 121,
   "metadata": {
    "collapsed": false
   },
   "outputs": [],
   "source": [
    "my_test_images = []\n",
    "for image in my_images:\n",
    "    my_test_images.append(np.reshape(grey_image, [height, width, 1]))"
   ]
  },
  {
   "cell_type": "code",
   "execution_count": 122,
   "metadata": {
    "collapsed": false
   },
   "outputs": [],
   "source": [
    "my_test_labels = np.zeros((8, n_classes))\n",
    "\n",
    "my_test_labels[0][2] = 1. # 50\n",
    "my_test_labels[1][3] = 1. # 60\n",
    "my_test_labels[2][7] = 1. # 100\n",
    "my_test_labels[3][8] = 1. # 120\n",
    "my_test_labels[4][14] = 1. # stop\n",
    "my_test_labels[5][15] = 1. # no vehicle\n",
    "my_test_labels[6][35] = 1. # ahead only\n",
    "my_test_labels[7][38] = 1. # keep right"
   ]
  },
  {
   "cell_type": "markdown",
   "metadata": {},
   "source": [
    "### Question 6\n",
    "\n",
    "_Choose five candidate images of traffic signs and provide them in the report. Are there any particular qualities of the image(s) that might make classification difficult? It would be helpful to plot the images in the notebook._\n",
    "\n"
   ]
  },
  {
   "cell_type": "markdown",
   "metadata": {},
   "source": [
    "**Answer:**\n",
    "\n",
    "For the provided iamges, the traffic signs are centred in the middle, while my traffic signs take over almost entirety of the images."
   ]
  },
  {
   "cell_type": "code",
   "execution_count": 159,
   "metadata": {
    "collapsed": false
   },
   "outputs": [
    {
     "name": "stdout",
     "output_type": "stream",
     "text": [
      "My Testing Accuracy: 0.125\n"
     ]
    }
   ],
   "source": [
    "print(\"My Testing Accuracy:\", sess.run(accuracy, feed_dict={x: my_test_images, y: my_test_labels}))"
   ]
  },
  {
   "cell_type": "markdown",
   "metadata": {},
   "source": [
    "### Question 7\n",
    "\n",
    "_Is your model able to perform equally well on captured pictures or a live camera stream when compared to testing on the dataset?_\n"
   ]
  },
  {
   "cell_type": "markdown",
   "metadata": {},
   "source": [
    "**Answer:**\n",
    "\n",
    "No. The accuracy is merely 0.125, suggesting only 1/8 images has been correctly identified."
   ]
  },
  {
   "cell_type": "code",
   "execution_count": 155,
   "metadata": {
    "collapsed": false
   },
   "outputs": [
    {
     "name": "stdout",
     "output_type": "stream",
     "text": [
      "[  1.00000000e+00   4.07366798e-17   9.61953812e-18   1.94667134e-18\n",
      "   7.07876634e-23] [38 34 31 23 22]\n",
      "[  1.00000000e+00   4.07366798e-17   9.61953812e-18   1.94667134e-18\n",
      "   7.07876634e-23] [38 34 31 23 22]\n",
      "[  1.00000000e+00   4.07366798e-17   9.61953812e-18   1.94667134e-18\n",
      "   7.07876634e-23] [38 34 31 23 22]\n",
      "[  1.00000000e+00   4.07366798e-17   9.61953812e-18   1.94667134e-18\n",
      "   7.07876634e-23] [38 34 31 23 22]\n",
      "[  1.00000000e+00   4.07366798e-17   9.61953812e-18   1.94667134e-18\n",
      "   7.07876634e-23] [38 34 31 23 22]\n",
      "[  1.00000000e+00   4.07366798e-17   9.61953812e-18   1.94667134e-18\n",
      "   7.07876634e-23] [38 34 31 23 22]\n",
      "[  1.00000000e+00   4.07366798e-17   9.61953812e-18   1.94667134e-18\n",
      "   7.07876634e-23] [38 34 31 23 22]\n",
      "[  1.00000000e+00   4.07366798e-17   9.61953812e-18   1.94667134e-18\n",
      "   7.07876634e-23] [38 34 31 23 22]\n"
     ]
    }
   ],
   "source": [
    "p = sess.run(tf.nn.softmax(pred), feed_dict={x: my_test_images, y: my_test_labels})\n",
    "\n",
    "for p_i in p:\n",
    "    values, indices = sess.run(tf.nn.top_k(r, k=5))\n",
    "    print(values, indices)"
   ]
  },
  {
   "cell_type": "markdown",
   "metadata": {},
   "source": [
    "### Question 8\n",
    "\n",
    "*Use the model's softmax probabilities to visualize the **certainty** of its predictions, [`tf.nn.top_k`](https://www.tensorflow.org/versions/r0.11/api_docs/python/nn.html#top_k) could prove helpful here. Which predictions is the model certain of? Uncertain? If the model was incorrect in its initial prediction, does the correct prediction appear in the top k? (k should be 5 at most)*\n"
   ]
  },
  {
   "cell_type": "markdown",
   "metadata": {},
   "source": [
    "**Answer:**\n",
    "\n",
    "The result is quite shocking as all of them has sign 38 (keep right) as the top 1 choice (almost 100%). Also none of of the otehr signs are included in the top 5."
   ]
  },
  {
   "cell_type": "markdown",
   "metadata": {},
   "source": [
    "### Question 9\n",
    "_If necessary, provide documentation for how an interface was built for your model to load and classify newly-acquired images._\n"
   ]
  },
  {
   "cell_type": "markdown",
   "metadata": {},
   "source": [
    "**Answer:**"
   ]
  },
  {
   "cell_type": "markdown",
   "metadata": {},
   "source": [
    "> **Note**: Once you have completed all of the code implementations and successfully answered each question above, you may finalize your work by exporting the iPython Notebook as an HTML document. You can do this by using the menu above and navigating to  \\n\",\n",
    "    \"**File -> Download as -> HTML (.html)**. Include the finished document along with this notebook as your submission."
   ]
  },
  {
   "cell_type": "code",
   "execution_count": null,
   "metadata": {
    "collapsed": true
   },
   "outputs": [],
   "source": [
    ""
   ]
  }
 ],
 "metadata": {
  "anaconda-cloud": {},
  "kernelspec": {
   "display_name": "Python 3",
   "language": "python",
   "name": "python3"
  },
  "language_info": {
   "codemirror_mode": {
    "name": "ipython",
    "version": 3.0
   },
   "file_extension": ".py",
   "mimetype": "text/x-python",
   "name": "python",
   "nbconvert_exporter": "python",
   "pygments_lexer": "ipython3",
   "version": "3.5.1"
  }
 },
 "nbformat": 4,
 "nbformat_minor": 0
}